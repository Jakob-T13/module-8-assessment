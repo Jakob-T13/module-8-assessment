{
 "cells": [
  {
   "cell_type": "code",
   "execution_count": 187,
   "id": "d83c0180-f662-4450-8afe-2d963f1c70d2",
   "metadata": {},
   "outputs": [],
   "source": [
    "import pandas as pd\n",
    "import json\n",
    "import requests\n",
    "import seaborn as sns\n",
    "import matplotlib.pyplot as plt\n",
    "plt.rcParams[\"axes.formatter.limits\"] = (-5, 12)"
   ]
  },
  {
   "cell_type": "code",
   "execution_count": 188,
   "id": "82f62c41-46f4-4a7c-8c3c-ee7836d3b413",
   "metadata": {},
   "outputs": [],
   "source": [
    "#formatted the API calls for the Characteristics of the Business Endpoint and the Technology Endpoint.\n",
    "\n",
    "response = requests.get('https://api.census.gov/data/2018/abstcb?get=GEO_ID,NAME,NAICS2017,NAICS2017_LABEL,TECHUSE,TECHUSE_LABEL,MOTPRODTECH,MOTPRODTECH_LABEL,MOTUSETECH,MOTUSETECH_LABEL,SEX,SEX_LABEL,ETH_GROUP,ETH_GROUP_LABEL,RACE_GROUP,RACE_GROUP_LABEL,VET_GROUP,VET_GROUP_LABEL,NSFSZFI,NSFSZFI_LABEL,FACTORS_P,FACTORS_P_LABEL,YEAR,FIRMPDEMP,FIRMPDEMP_F,FIRMPDEMP_PCT,FIRMPDEMP_PCT_F,RCPPDEMP,RCPPDEMP_F,RCPPDEMP_PCT,RCPPDEMP_PCT_F,EMP,EMP_F,EMP_PCT,EMP_PCT_F,RCPPDEMP_S,RCPPDEMP_S_F,IMPACTWF_P,IMPACTWF_P_LABEL,IMPACTWF_U,IMPACTWF_U_LABEL&for=us:*&key=941829fad2b1ee1c55761ddb0b6349e5e76ef425')\n",
    "raw_json = response.json()\n",
    "response2 = requests.get('https://api.census.gov/data/2018/abscb?get=GEO_ID,NAME,NAICS2017,NAICS2017_LABEL,SEX,SEX_LABEL,ETH_GROUP,YIBSZFI,YIBSZFI_LABEL,ETH_GROUP_LABEL,RACE_GROUP,RACE_GROUP_LABEL,VET_GROUP,VET_GROUP_LABEL,QDESC,QDESC_LABEL,BUSCHAR,BUSCHAR_LABEL,YEAR,FIRMPDEMP,FIRMPDEMP_F,FIRMPDEMP_PCT,FIRMPDEMP_PCT_F,RCPPDEMP_PCT_F,EMP,EMP_F,EMP_PCT,EMP_PCT_F,PAYANN,PAYANN_F,PAYANN_PCT,PAYANN_PCT_F,FIRMPDEMP_S,FIRMPDEMP_S_F,FIRMPDEMP_PCT_S,FIRMPDEMP_PCT_S_F,RCPPDEMP_S,RCPPDEMP_S_F,RCPPDEMP_PCT_S,RCPPDEMP_PCT_S_F,EMP_S,EMP_S_F,EMP_PCT_S,EMP_PCT_S_F,EMPSZFI,EMPSZFI_LABEL,PAYANN_S,PAYANN_S_F,PAYANN_PCT_S,PAYANN_PCT_S_F&for=us:*&QDESC_LABEL=FAMOWN&key=941829fad2b1ee1c55761ddb0b6349e5e76ef425')\n",
    "raw_json2 = response2.json()"
   ]
  },
  {
   "cell_type": "code",
   "execution_count": 189,
   "id": "0c03943e-7c49-49bb-a135-8687e7739804",
   "metadata": {},
   "outputs": [],
   "source": [
    "df = pd.DataFrame(raw_json,columns=raw_json.pop(0))\n",
    "df2 = pd.DataFrame(raw_json2,columns=raw_json2.pop(0))"
   ]
  },
  {
   "cell_type": "code",
   "execution_count": null,
   "id": "5199d5e2-9231-4a26-90f0-cf5d478a94fa",
   "metadata": {},
   "outputs": [],
   "source": []
  },
  {
   "cell_type": "code",
   "execution_count": 190,
   "id": "5e59218c-a272-43a7-b95e-192299e12df0",
   "metadata": {},
   "outputs": [],
   "source": [
    "#cleaned the IMPACTWF_P_LABEL column. It contains redundant categories, hence I combined multiple pairs into one.\n",
    "\n",
    "\n",
    "df.loc[df.IMPACTWF_P_LABEL == 'Cloud-Based: Increased skill level of workers employed by this business', 'IMPACTWF_P_LABEL'] = 'Cloud-Based: Increased STEM skills of workers employed by this business'\n",
    "df.loc[df.IMPACTWF_P_LABEL == 'Cloud-Based: Decreased skill level of workers employed by this business', 'IMPACTWF_P_LABEL'] = 'Cloud-Based: Decreased STEM skills of workers employed by this business'\n",
    "df.loc[df.IMPACTWF_P_LABEL == 'Cloud-Based: Did not change skill level of workers employed by this business', 'IMPACTWF_P_LABEL'] = 'Cloud-Based: Did not change STEM skills of workers employed by this business'\n",
    "\n",
    "df.loc[df.IMPACTWF_P_LABEL == 'Specialized Software: Increased skill level of workers employed by this business', 'IMPACTWF_P_LABEL'] = 'Specialized Software: Increased STEM skills of workers employed by this business'\n",
    "df.loc[df.IMPACTWF_P_LABEL == 'Specialized Software: Decreased skill level of workers employed by this business', 'IMPACTWF_P_LABEL'] = 'Specialized Software: Decreased STEM skills of workers employed by this business'\n",
    "df.loc[df.IMPACTWF_P_LABEL == 'Specialized Software: Did not change skill level of workers employed by this business', 'IMPACTWF_P_LABEL'] = 'Specialized Software: Did not change STEM skills of workers employed by this business'\n",
    "\n",
    "df.loc[df.IMPACTWF_P_LABEL == 'Robotics: Increased skill level of workers employed by this business', 'IMPACTWF_P_LABEL'] = 'Robotics: Increased STEM skills of workers employed by this business'\n",
    "df.loc[df.IMPACTWF_P_LABEL == 'Robotics: Decreased skill level of workers employed by this business', 'IMPACTWF_P_LABEL'] = 'Robotics: Decreased STEM skills of workers employed by this business'\n",
    "df.loc[df.IMPACTWF_P_LABEL == 'Robotics: Did not change skill level of workers employed by this business', 'IMPACTWF_P_LABEL'] = 'Robotics: Did not change STEM skills of workers employed by this business'\n",
    "\n",
    "df.loc[df.IMPACTWF_P_LABEL == 'Specialized Equipment: Increased skill level of workers employed by this business', 'IMPACTWF_P_LABEL'] = 'Specialized Equipment: Increased STEM skills of workers employed by this business'\n",
    "df.loc[df.IMPACTWF_P_LABEL == 'Specialized Equipment: Decreased skill level of workers employed by this business', 'IMPACTWF_P_LABEL'] = 'Specialized Equipment: Decreased STEM skills of workers employed by this business'\n",
    "df.loc[df.IMPACTWF_P_LABEL == 'Specialized Equipment: Did not change skill level of workers employed by this business', 'IMPACTWF_P_LABEL'] = 'Specialized Equipment: Did not change STEM skills of workers employed by this business'\n",
    "\n",
    "df.loc[df.IMPACTWF_P_LABEL == 'Artificial Intelligence: Increased skill level of workers employed by this business', 'IMPACTWF_P_LABEL'] = 'Artificial Intelligence: Increased STEM skills of workers employed by this business'\n",
    "df.loc[df.IMPACTWF_P_LABEL == 'Artificial Intelligence: Decreased skill level of workers employed by this business', 'IMPACTWF_P_LABEL'] = 'Artificial Intelligence: Decreased STEM skills of workers employed by this business'\n",
    "df.loc[df.IMPACTWF_P_LABEL == 'Artificial Intelligence: Did not change skill level of workers employed by this business', 'IMPACTWF_P_LABEL'] = 'Artificial Intelligence: Did not change STEM skills of workers employed by this business'\n",
    "\n",
    "#IMPACTWF_U_LABEL and IMPACTWF_P_LABEL are virtually identical, hence i dropped the former within the API call.\n",
    "\n",
    "#In the TECHUSE_LABEL columns, those rows containing 'Total use' and 'Total Reporting' were most likely supposed to be the same category.\n",
    "#hence I combined them\n",
    "\n",
    "df.loc[df.TECHUSE_LABEL == 'Artificial Intelligence: Total use', 'TECHUSE_LABEL'] = 'Artificial Intelligence: Total Reporting'\n",
    "df.loc[df.TECHUSE_LABEL == 'Robotics: Total use', 'TECHUSE_LABEL'] = 'Robotics: Total Reporting'\n",
    "df.loc[df.TECHUSE_LABEL == 'Cloud-Based: Total use', 'TECHUSE_LABEL'] = 'Cloud-Based: Total Reporting'\n",
    "df.loc[df.TECHUSE_LABEL == 'Specialized Equipment: Total use', 'TECHUSE_LABEL'] = 'Specialized Equipment: Total Reporting'\n",
    "df.loc[df.TECHUSE_LABEL == 'Specialized Software: Total use', 'TECHUSE_LABEL'] = 'Specialized Software: Total Reporting'\n",
    "\n",
    "#RCCDEMP was a string when it should have been numeric. Hence I have changed it to a float.\n",
    "df['RCPPDEMP'] = df['RCPPDEMP'].astype(float)\n",
    "\n",
    "#I did the same thing with FIRMPDEMP\n",
    "df['FIRMPDEMP'] = df['FIRMPDEMP'].astype(float)\n",
    "\n",
    "#I wanted to investigate total revenue for firms based on their use of Cloud Technologies.\n",
    "\n",
    "#several of the categories in this dataset contain overall-values and values separated by group.\n",
    "#In order to investigate Cloud-Technologies without there being overlap, I had to set all other columns to their 'total' values.\n",
    "#I created a subset of the data where all categories were normalized aside from TECHUSE_LABEL, which measures the levels of use for various technologies within\n",
    "#the work-foce.\n",
    "\n",
    "Cloud_use = df[(df['ETH_GROUP_LABEL'] == 'Total') & (df['IMPACTWF_P_LABEL'] == 'All firms') & (df['IMPACTWF_U_LABEL'] == 'All firms') & (df['MOTPRODTECH_LABEL'] == 'All firms') & (df['MOTUSETECH_LABEL'] == 'All firms') & (df['NAICS2017_LABEL'] == 'Total for all sectors') & (df['NSFSZFI_LABEL'] == 'All firms') & (df['RACE_GROUP_LABEL'] == 'Total') & (df['SEX_LABEL'] == 'Total') & (df['VET_GROUP_LABEL'] == 'Total')]\n"
   ]
  },
  {
   "cell_type": "code",
   "execution_count": null,
   "id": "b83b3bc3-4cb5-4eb6-bd1d-ef34e42dacad",
   "metadata": {},
   "outputs": [],
   "source": []
  },
  {
   "cell_type": "code",
   "execution_count": null,
   "id": "42290278-55d6-42cd-8d21-e8bff58fc160",
   "metadata": {},
   "outputs": [],
   "source": []
  },
  {
   "cell_type": "code",
   "execution_count": null,
   "id": "9ca4030d-a70f-4316-b23a-d94b293a801f",
   "metadata": {},
   "outputs": [],
   "source": []
  },
  {
   "cell_type": "code",
   "execution_count": 191,
   "id": "6c8c68ee-ed83-4245-af55-9760ff4ea287",
   "metadata": {},
   "outputs": [
    {
     "name": "stderr",
     "output_type": "stream",
     "text": [
      "C:\\Users\\Daniel\\AppData\\Local\\Temp/ipykernel_25268/1907353038.py:3: SettingWithCopyWarning: \n",
      "A value is trying to be set on a copy of a slice from a DataFrame.\n",
      "Try using .loc[row_indexer,col_indexer] = value instead\n",
      "\n",
      "See the caveats in the documentation: https://pandas.pydata.org/pandas-docs/stable/user_guide/indexing.html#returning-a-view-versus-a-copy\n",
      "  Cloud_use['RCPPDEMP'] = Cloud_use['RCPPDEMP']/Cloud_use['FIRMPDEMP']\n"
     ]
    }
   ],
   "source": [
    "#to the estimate for revenue by firm, I divided the revenue field by the firm fields\n",
    "#I transformed the RCPPDEMP field just so.\n",
    "Cloud_use['RCPPDEMP'] = Cloud_use['RCPPDEMP']/Cloud_use['FIRMPDEMP']\n",
    "\n",
    "#as I wanted to investigate revenue and technology use, I limited the sub-dataset to just these columns\n",
    "Cloud_use = Cloud_use[['TECHUSE_LABEL','RCPPDEMP','TECHUSE']]\n",
    "\n",
    "#As I wanted to investigate the difference in uses of Cloud-Based technologies, I filtered the sub-dataset so that 'Total use' would not be a part of it.\n",
    "#I also filtered the TECH_USE column to only look at Cloud-Based response categories.\n",
    "Cloud_use = Cloud_use[(Cloud_use['TECHUSE_LABEL'] == 'Cloud-Based: Did not use') | (Cloud_use['TECHUSE_LABEL'] == 'Cloud-Based: Low use') | (Cloud_use['TECHUSE_LABEL'] == 'Cloud-Based: Moderate use') | (Cloud_use['TECHUSE_LABEL'] == 'Cloud-Based: High use') | (Cloud_use['TECHUSE_LABEL'] == 'Tested, but did not use in production or service') | (Cloud_use['TECHUSE_LABEL'] == 'Cloud-Based: Don\\'t know')]\n",
    "\n",
    "#To simplify the final plot, I trimmed the response Categories of 'Cloud-Based' so as to conserve space.\n",
    "Cloud_use.loc[Cloud_use.TECHUSE_LABEL == 'Cloud-Based: Did not use', 'TECHUSE_LABEL'] = 'Did not use'\n",
    "Cloud_use.loc[Cloud_use.TECHUSE_LABEL == 'Cloud-Based: Low use', 'TECHUSE_LABEL'] = 'Low use'\n",
    "Cloud_use.loc[Cloud_use.TECHUSE_LABEL == 'Cloud-Based: Moderate use', 'TECHUSE_LABEL'] = 'Moderate use'\n",
    "Cloud_use.loc[Cloud_use.TECHUSE_LABEL == 'Cloud-Based: High use', 'TECHUSE_LABEL'] = 'High use'\n",
    "Cloud_use.loc[Cloud_use.TECHUSE_LABEL == 'Cloud-Based: Don\\'t know', 'TECHUSE_LABEL'] = 'Don\\'t know'"
   ]
  },
  {
   "cell_type": "code",
   "execution_count": null,
   "id": "fc570644-4df2-4d40-aff2-1420e6f3338f",
   "metadata": {},
   "outputs": [],
   "source": []
  },
  {
   "cell_type": "code",
   "execution_count": null,
   "id": "a3252f21-4b41-4385-93c4-c7038b515e31",
   "metadata": {},
   "outputs": [],
   "source": []
  },
  {
   "cell_type": "code",
   "execution_count": 192,
   "id": "66b2cf14-e656-476f-a46e-23460292d89f",
   "metadata": {},
   "outputs": [],
   "source": [
    "#I next grouped the revenue (RCPPDEMP) values by the technology-use category.\n",
    "Cloud_usepl = Cloud_use.groupby('TECHUSE_LABEL')['RCPPDEMP'].sum()"
   ]
  },
  {
   "cell_type": "code",
   "execution_count": 193,
   "id": "4ebf1e11-db5e-4553-9858-690042c10e22",
   "metadata": {},
   "outputs": [
    {
     "data": {
      "text/plain": [
       "(array([    0.,  2500.,  5000.,  7500., 10000., 12500., 15000., 17500.,\n",
       "        20000., 22500.]),\n",
       " [Text(0, 0, ''),\n",
       "  Text(0, 0, ''),\n",
       "  Text(0, 0, ''),\n",
       "  Text(0, 0, ''),\n",
       "  Text(0, 0, ''),\n",
       "  Text(0, 0, ''),\n",
       "  Text(0, 0, ''),\n",
       "  Text(0, 0, ''),\n",
       "  Text(0, 0, ''),\n",
       "  Text(0, 0, '')])"
      ]
     },
     "execution_count": 193,
     "metadata": {},
     "output_type": "execute_result"
    },
    {
     "data": {
      "image/png": "[encoded data removed]",
      "text/plain": [
       "<Figure size 576x288 with 1 Axes>"
      ]
     },
     "metadata": {
      "needs_background": "light"
     },
     "output_type": "display_data"
    }
   ],
   "source": [
    "#below is the final plot\n",
    "cloud_plot = Cloud_usepl.plot(title='Average Firm Revenue by Cloud-Use-Level',x='TECHUSE_LABEL', kind='barh',fontsize=8,figsize=(8,4))\n",
    "cloud_plot.set_ylabel('Level of Cloud Use',size=14)\n",
    "cloud_plot.set_xlabel('Gross Firm Revenue (Thousands)',size=13)\n",
    "plt.xticks(rotation=45)"
   ]
  },
  {
   "cell_type": "code",
   "execution_count": null,
   "id": "4bfb8e1a-3453-4cc2-a545-dd93cd134ca3",
   "metadata": {},
   "outputs": [],
   "source": []
  },
  {
   "cell_type": "code",
   "execution_count": null,
   "id": "67ef20db-7e0b-46f8-80ff-f156272baf72",
   "metadata": {},
   "outputs": [],
   "source": [
    "\n"
   ]
  },
  {
   "cell_type": "code",
   "execution_count": null,
   "id": "50f5404a-e0f8-4551-bdab-0c612b0c52b0",
   "metadata": {},
   "outputs": [],
   "source": []
  },
  {
   "cell_type": "code",
   "execution_count": null,
   "id": "f05d705f-c49c-4ad8-8229-aad3f862b057",
   "metadata": {},
   "outputs": [],
   "source": []
  },
  {
   "cell_type": "code",
   "execution_count": null,
   "id": "07701516-767f-4367-be14-b58f3505e846",
   "metadata": {},
   "outputs": [],
   "source": []
  },
  {
   "cell_type": "code",
   "execution_count": 194,
   "id": "967aa0e5-ac4f-4fa6-a1fb-4b75527123df",
   "metadata": {
    "jupyter": {
     "source_hidden": true
    },
    "tags": []
   },
   "outputs": [],
   "source": [
    "#how on earth could a merge happen? If i were to merge data on just all African Americans I could technically look at two different tthings but jeez how do?\n",
    "#Family owned, African American\n",
    "#african-American firms that are family owned"
   ]
  },
  {
   "cell_type": "code",
   "execution_count": 195,
   "id": "167780ed-97fd-4ea1-8505-ca1941692ce7",
   "metadata": {},
   "outputs": [],
   "source": [
    "#I wished to investigate the number of employees working for family-owned firms by owner-race.\n",
    "\n",
    "#I first normalized all categories that were not RACE_GROUP_LABEL\n",
    "family_company_emps_byRace = df2[(df2['ETH_GROUP_LABEL'] == 'Total') & (df2['NAICS2017_LABEL'] == 'Total for all sectors') & (df2['SEX_LABEL'] == 'Total') & (df2['VET_GROUP_LABEL'] == 'Total') & (df2['YIBSZFI_LABEL'] == 'All firms') & (df2['EMPSZFI_LABEL'] == 'All firms')]\n",
    "\n",
    "#I then limited the sub-dataset to the RACE_GROUP_LABEL as well as the number of employees and the category that determined if a company was family-owned (BUSCHAR)\n",
    "family_company_emps_byRace = family_company_emps_byRace[['BUSCHAR','RACE_GROUP_LABEL','EMP','FIRMPDEMP']]"
   ]
  },
  {
   "cell_type": "code",
   "execution_count": 196,
   "id": "1b9b4b2d-6476-4c56-936e-a9c050fadff9",
   "metadata": {},
   "outputs": [
    {
     "name": "stderr",
     "output_type": "stream",
     "text": [
      "C:\\Users\\Daniel\\AppData\\Local\\Temp/ipykernel_25268/4028918127.py:2: UserWarning: Boolean Series key will be reindexed to match DataFrame index.\n",
      "  family_company_emps_byRace = family_company_emps_byRace[df2.BUSCHAR == 'BM']\n",
      "C:\\Users\\Daniel\\AppData\\Local\\Temp/ipykernel_25268/4028918127.py:11: UserWarning: Boolean Series key will be reindexed to match DataFrame index.\n",
      "  family_company_emps_byRace = family_company_emps_byRace[(df2['RACE_GROUP_LABEL'] == 'American Indian and Alaska Native') | (family_company_emps_byRace['RACE_GROUP_LABEL'] == 'Asian') | (family_company_emps_byRace['RACE_GROUP_LABEL'] == 'Black or African American') | (family_company_emps_byRace['RACE_GROUP_LABEL'] == 'Native Hawaiian and Other Pacific Islander') | (family_company_emps_byRace['RACE_GROUP_LABEL'] == 'White')]\n"
     ]
    }
   ],
   "source": [
    "#I filtered BUSCHAR to the value for family-owned\n",
    "family_company_emps_byRace = family_company_emps_byRace[df2.BUSCHAR == 'BM']\n",
    "\n",
    "#I altered the data-type for EMP so it would be numeric.\n",
    "family_company_emps_byRace['EMP']=family_company_emps_byRace['EMP'].astype(float)\n",
    "\n",
    "#I altered the data-type for FIRMPDEMP so it would be numeric\n",
    "family_company_emps_byRace['FIRMPDEMP']=family_company_emps_byRace['FIRMPDEMP'].astype(float)\n",
    "\n",
    "#To prevent overlap, I filtered the race-group variable so there would be no response variables that were totals or aggregations\n",
    "family_company_emps_byRace = family_company_emps_byRace[(df2['RACE_GROUP_LABEL'] == 'American Indian and Alaska Native') | (family_company_emps_byRace['RACE_GROUP_LABEL'] == 'Asian') | (family_company_emps_byRace['RACE_GROUP_LABEL'] == 'Black or African American') | (family_company_emps_byRace['RACE_GROUP_LABEL'] == 'Native Hawaiian and Other Pacific Islander') | (family_company_emps_byRace['RACE_GROUP_LABEL'] == 'White')]\n",
    "\n",
    "#I next grouped the employee counts by owner-race-group and summed them\n",
    "family_company_emps_byRace = family_company_emps_byRace.groupby('RACE_GROUP_LABEL')['EMP'].sum()"
   ]
  },
  {
   "cell_type": "code",
   "execution_count": 197,
   "id": "bb7784fc-f2b0-42e3-b523-064c337e8131",
   "metadata": {},
   "outputs": [
    {
     "data": {
      "text/plain": [
       "RACE_GROUP_LABEL\n",
       "American Indian and Alaska Native               19689.0\n",
       "Asian                                          537543.0\n",
       "Black or African American                       96433.0\n",
       "Native Hawaiian and Other Pacific Islander          0.0\n",
       "White                                         7356690.0\n",
       "Name: EMP, dtype: float64"
      ]
     },
     "execution_count": 197,
     "metadata": {},
     "output_type": "execute_result"
    }
   ],
   "source": [
    "#showcasing the group-by\n",
    "family_company_emps_byRace"
   ]
  },
  {
   "cell_type": "code",
   "execution_count": 198,
   "id": "9c1e2345-1b42-4fc7-8dbf-6fd05933acf5",
   "metadata": {},
   "outputs": [],
   "source": [
    "#I then built a custom data-frame off of the group-by\n",
    "d = {'RACE_GROUP_LABEL': ['Native American','Asian','Black','Pacific Islander','White'], 'Employees': [19689,537543,96433,0,7356690]}\n",
    "family_company_emps_byRace = pd.DataFrame(data=d)"
   ]
  },
  {
   "cell_type": "code",
   "execution_count": 199,
   "id": "e71f4eff-fbf9-40ba-9f8c-49e9bb7d8bcc",
   "metadata": {},
   "outputs": [
    {
     "data": {
      "text/plain": [
       "(array([0, 1, 2, 3, 4]),\n",
       " [Text(0, 0, 'White'),\n",
       "  Text(1, 0, 'Asian'),\n",
       "  Text(2, 0, 'Black'),\n",
       "  Text(3, 0, 'Native American'),\n",
       "  Text(4, 0, 'Pacific Islander')])"
      ]
     },
     "execution_count": 199,
     "metadata": {},
     "output_type": "execute_result"
    },
    {
     "data": {
      "image/png": "[encoded data removed]",
      "text/plain": [
       "<Figure size 936x432 with 1 Axes>"
      ]
     },
     "metadata": {
      "needs_background": "light"
     },
     "output_type": "display_data"
    }
   ],
   "source": [
    "#below is the final plot\n",
    "family_company_emps_byRace = family_company_emps_byRace.sort_values(by='Employees', ascending=False)\n",
    "plt.figure(figsize = (13,6))\n",
    "ax = sns.barplot(x=family_company_emps_byRace['RACE_GROUP_LABEL'],y=family_company_emps_byRace['Employees'],color='b', )\n",
    "ax.set_xlabel('Racial Group',size=13)\n",
    "ax.set_ylabel('Employees',size=13)\n",
    "ax.set_title('Employees within Family-Owned Firms by Owner-Race',size=16)\n",
    "plt.xticks(rotation=0)"
   ]
  },
  {
   "cell_type": "code",
   "execution_count": null,
   "id": "e4c110ad-8fea-4ef5-871e-25be46f978a1",
   "metadata": {},
   "outputs": [],
   "source": []
  },
  {
   "cell_type": "code",
   "execution_count": 200,
   "id": "61998c18-3333-4053-aed7-4abb6277a002",
   "metadata": {},
   "outputs": [],
   "source": [
    "#Finally, I wanted to investigate the ratio of the use of Specialized Software by Industry Type\n",
    "\n",
    "#I began by setting all categorical columns that were not industry (NAICS2017_LABEL), and were not related to technology-use (TECHUSE_LABEL), as their total.\n",
    "industry_software = df[(df['ETH_GROUP_LABEL'] == 'Total') & (df['IMPACTWF_P_LABEL'] == 'All firms') & (df['IMPACTWF_U_LABEL'] == 'All firms') & (df['MOTPRODTECH_LABEL'] == 'All firms') & (df['MOTUSETECH_LABEL'] == 'All firms') & (df['NSFSZFI_LABEL'] == 'All firms') & (df['RACE_GROUP_LABEL'] == 'Total') & (df['SEX_LABEL'] == 'Total') & (df['VET_GROUP_LABEL'] == 'Total')]\n",
    "\n",
    "#I next filtered to the columns to industry, tech-use, and the count of firms.\n",
    "industry_software = industry_software[['NAICS2017_LABEL','TECHUSE_LABEL','FIRMPDEMP']]\n",
    "\n",
    "#I took the liberty of combining two categorical responses that seemed highley related. 'Specialized Software: Tested, but did not use in production or service' and 'Specialized Software: Low use'.\n",
    "#I set all instances of the former as instances of the latter.\n",
    "industry_software.loc[industry_software.TECHUSE_LABEL == 'Specialized Software: Tested, but did not use in production or service', 'TECHUSE_LABEL'] = 'Specialized Software: Low use'\n",
    "\n",
    "#I then filtered to fields that examined the use of Specialized-Software only.\n",
    "industry_software = industry_software[(industry_software['TECHUSE_LABEL'] == 'Specialized Software: Low use') | (industry_software['TECHUSE_LABEL'] == 'Specialized Software: Moderate use') | (industry_software['TECHUSE_LABEL'] == 'Specialized Software: High use')]\n",
    "\n",
    "#Finally I removed both the totals and 'unclassified' fields from the sub-dataset.\n",
    "industry_software = industry_software[(industry_software['NAICS2017_LABEL'] != 'Total for all sectors') & (industry_software['NAICS2017_LABEL'] != 'Industries not classified')]"
   ]
  },
  {
   "cell_type": "code",
   "execution_count": null,
   "id": "4aa3392e-f418-4d42-9229-6036446d18a8",
   "metadata": {},
   "outputs": [],
   "source": []
  },
  {
   "cell_type": "code",
   "execution_count": 201,
   "id": "d59e4179-1667-49d1-ad8f-a28f1196feb9",
   "metadata": {},
   "outputs": [],
   "source": [
    "#I grouped the number of firms by industry and took their summation\n",
    "software_groups = industry_software.groupby(['NAICS2017_LABEL'])['FIRMPDEMP'].sum()"
   ]
  },
  {
   "cell_type": "code",
   "execution_count": 202,
   "id": "0a71b79a-bac7-4738-9f0f-42d869a541f5",
   "metadata": {},
   "outputs": [],
   "source": [
    "sum_list = []\n",
    "industry_list = ['Agriculture, forestry, fishing and hunting', 'Utilities', 'Mining, quarrying, and oil and gas extraction', 'Construction', 'Wholesale trade', 'Manufacturing', 'Retail trade', 'Transportation and warehousing', 'Information', 'Finance and insurance', 'Real estate and rental and leasing', 'Professional, scientific, and technical services', 'Management of companies and enterprises', 'Administrative and support and waste management and remediation services', 'Health care and social assistance', 'Educational services', 'Accommodation and food services', 'Arts, entertainment, and recreation']         \n",
    "industry_list_edit = ['Agriculture','Utilities','Mining and Extraction','Construction','Wholesale Trade','Manufacturing','Retail Trade','Transportation and Warehousing','Information','Finance and Insurance','Real Estate','Technical Services','Management','Administrative','Heath Care','Educational Services','Food Services','Arts and Entertainment']\n",
    "\n",
    "#x = industry_software[(industry_software['NAICS2017_LABEL'] == 'Agriculture, forestry, fishing and hunting')]\n",
    "#y = x.agg({'FIRMPDEMP':['sum']})\n",
    "#print(y)\n",
    "\n",
    "\n",
    "#using a for loop, I populated an empty list with the sum of firms by industry.\n",
    "for industry in range(0,len(industry_list)):\n",
    "    x= industry_software[(industry_software['NAICS2017_LABEL'] == (industry_list[industry]))]\n",
    "    z = 0\n",
    "    for y in x['FIRMPDEMP']:\n",
    "        z = z + y\n",
    "    sum_list.append(z)\n",
    "    \n",
    "#I created separate dataframes for each level of Specialized-Software use\n",
    "industry_software_low = industry_software[industry_software.TECHUSE_LABEL == 'Specialized Software: Low use']\n",
    "industry_software_moderate = industry_software[industry_software.TECHUSE_LABEL == 'Specialized Software: Moderate use']\n",
    "industry_software_high = industry_software[industry_software.TECHUSE_LABEL == 'Specialized Software: High use']\n",
    "\n",
    "#I then used for loops to populate empty lists with the counts of firms belonging to the categories of 'Low use of Specialized Software', 'Moderate use of Specialized Software'\n",
    "#and 'High use of Specialized Software'\n",
    "low_list = []\n",
    "for industry in range(0,len(industry_list)):\n",
    "    x= industry_software_low[(industry_software_low['NAICS2017_LABEL'] == (industry_list[industry]))]\n",
    "    z = 0\n",
    "    for y in x['FIRMPDEMP']:\n",
    "        z = z + y\n",
    "    low_list.append(z)\n",
    "    \n",
    "moderate_list = []\n",
    "for industry in range(0,len(industry_list)):\n",
    "    x= industry_software_moderate[(industry_software_moderate['NAICS2017_LABEL'] == (industry_list[industry]))]\n",
    "    z = 0\n",
    "    for y in x['FIRMPDEMP']:\n",
    "        z = z + y\n",
    "    moderate_list.append(z)\n",
    "\n",
    "high_list = []\n",
    "for industry in range(0,len(industry_list)):\n",
    "    x= industry_software_high[(industry_software_high['NAICS2017_LABEL'] == (industry_list[industry]))]\n",
    "    z = 0\n",
    "    for y in x['FIRMPDEMP']:\n",
    "        z = z + y\n",
    "    high_list.append(z)\n"
   ]
  },
  {
   "cell_type": "code",
   "execution_count": null,
   "id": "8d37c26c-3c56-4076-a7bc-bfa7bd64f0e4",
   "metadata": {},
   "outputs": [],
   "source": []
  },
  {
   "cell_type": "code",
   "execution_count": null,
   "id": "bfb4f5d0-e548-4f7d-9837-37111b166ed7",
   "metadata": {},
   "outputs": [],
   "source": []
  },
  {
   "cell_type": "code",
   "execution_count": 203,
   "id": "1b377a0f-78fe-40f3-a517-b48dfad6a57c",
   "metadata": {},
   "outputs": [],
   "source": [
    "#I then populated lists containing the ratios of each category\n",
    "#I did this by using a for loop, and dividing each category list from the list of totals.\n",
    "\n",
    "low_list\n",
    "\n",
    "low_list_decframe = []\n",
    "for item in range(0,len(low_list)):\n",
    "    low_list_decframe.append(low_list[item]/sum_list[item])"
   ]
  },
  {
   "cell_type": "code",
   "execution_count": 204,
   "id": "6600392d-e2da-4a66-9249-2022ae4b27df",
   "metadata": {},
   "outputs": [],
   "source": [
    "moderate_list\n",
    "\n",
    "moderate_list_decframe = []\n",
    "for item in range(0,len(moderate_list)):\n",
    "    moderate_list_decframe.append(moderate_list[item]/sum_list[item])"
   ]
  },
  {
   "cell_type": "code",
   "execution_count": 205,
   "id": "39bc9e28-664d-4e0e-8a58-32c41dba2729",
   "metadata": {},
   "outputs": [],
   "source": [
    "high_list\n",
    "\n",
    "high_list_decframe = []\n",
    "for item in range(0,len(high_list)):\n",
    "    high_list_decframe.append(high_list[item]/sum_list[item])"
   ]
  },
  {
   "cell_type": "code",
   "execution_count": 206,
   "id": "09be876b-e442-46fb-9c3a-83fe0200fe96",
   "metadata": {},
   "outputs": [],
   "source": [
    "#Finally, I created a dataframe with all of these lists.\n",
    "#In order to create a more pleasing graphic, I limited my data to only the first seven industries.\n",
    "\n",
    "data = {'Low Use':low_list_decframe[0:7],\n",
    "        'Moderate Use':moderate_list_decframe[0:7],\n",
    "        'High Use':high_list_decframe[0:7]}\n",
    "index = industry_list_edit[0:7]\n",
    "\n",
    "industryDF = pd.DataFrame(data=data, index=index)"
   ]
  },
  {
   "cell_type": "code",
   "execution_count": null,
   "id": "8b4dbe59-44d6-4284-bcb8-eec51bdd50b7",
   "metadata": {},
   "outputs": [],
   "source": []
  },
  {
   "cell_type": "code",
   "execution_count": 207,
   "id": "cc50d6e6-b083-44fa-a640-1a879435b04a",
   "metadata": {},
   "outputs": [
    {
     "data": {
      "text/plain": [
       "Text(0.5, 0, 'Industry')"
      ]
     },
     "execution_count": 207,
     "metadata": {},
     "output_type": "execute_result"
    },
    {
     "data": {
      "image/png": "[encoded data removed]",
      "text/plain": [
       "<Figure size 720x432 with 1 Axes>"
      ]
     },
     "metadata": {
      "needs_background": "light"
     },
     "output_type": "display_data"
    },
    {
     "data": {
      "text/plain": [
       "<Figure size 1296x504 with 0 Axes>"
      ]
     },
     "metadata": {},
     "output_type": "display_data"
    }
   ],
   "source": [
    "#The final stacked bar-chart is below.\n",
    "#All bars add up to 1.\n",
    "\n",
    "industry_plot = industryDF.plot(title='Ratio of the Use of Specialized Software Technologies within Firms by Industry', figsize=(10,6), kind='bar', stacked=True)\n",
    "plt.figure(figsize = (18,7))\n",
    "industry_plot.set_ylabel('Ratio of Firms',size=14)\n",
    "industry_plot.set_xlabel('Industry',size=13)"
   ]
  },
  {
   "cell_type": "code",
   "execution_count": null,
   "id": "eb7d3d9f-618b-4d77-a160-dcafb6e93dcb",
   "metadata": {},
   "outputs": [],
   "source": []
  },
  {
   "cell_type": "code",
   "execution_count": null,
   "id": "f0d909c6-8f8a-4a98-99a0-6382c538c4ce",
   "metadata": {},
   "outputs": [],
   "source": []
  },
  {
   "cell_type": "code",
   "execution_count": null,
   "id": "d6e5a2aa-e14a-4e26-b7d3-ffa4cbcc5751",
   "metadata": {},
   "outputs": [],
   "source": []
  },
  {
   "cell_type": "code",
   "execution_count": null,
   "id": "9b2fcbc2-2a50-4073-a385-f65c319a48dd",
   "metadata": {},
   "outputs": [],
   "source": []
  },
  {
   "cell_type": "code",
   "execution_count": null,
   "id": "0c076e66-06c8-4077-8ead-a16f0d162491",
   "metadata": {},
   "outputs": [],
   "source": []
  },
  {
   "cell_type": "code",
   "execution_count": null,
   "id": "f10f97b6-9171-4051-8f82-5b2477df35a9",
   "metadata": {},
   "outputs": [],
   "source": []
  },
  {
   "cell_type": "code",
   "execution_count": null,
   "id": "44f6c5d0-0539-4ae7-b9a3-7feea1f0b968",
   "metadata": {},
   "outputs": [],
   "source": []
  },
  {
   "cell_type": "code",
   "execution_count": null,
   "id": "6eb6537c-ddfc-4436-9828-a22a1cff231a",
   "metadata": {},
   "outputs": [],
   "source": []
  }
 ],
 "metadata": {
  "kernelspec": {
   "display_name": "Python 3 (ipykernel)",
   "language": "python",
   "name": "python3"
  },
  "language_info": {
   "codemirror_mode": {
    "name": "ipython",
    "version": 3
   },
   "file_extension": ".py",
   "mimetype": "text/x-python",
   "name": "python",
   "nbconvert_exporter": "python",
   "pygments_lexer": "ipython3",
   "version": "3.9.7"
  }
 },
 "nbformat": 4,
 "nbformat_minor": 5
}
